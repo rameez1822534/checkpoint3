{
 "cells": [
  {
   "cell_type": "code",
   "execution_count": null,
   "metadata": {},
   "outputs": [],
   "source": [
    "import matplotlib.pyplot as plt \n",
    "import numpy as np\n",
    "\n",
    "# fig = plt.figure() # empty figure \n",
    "\n",
    "# plt.show() # you have to show your plot\n",
    "\n",
    "x1 = 1 \n",
    "y1 = 1\n",
    "x2 = 5\n",
    "y2 = 5\n",
    "x3 = 3\n",
    "y3 = -2\n",
    "\n",
    "x_values = np.array([x1 , x2, x3])\n",
    "y_values = np.array([y1 , y2, y3])\n",
    "\n",
    "plt.plot(x_values , y_values, marker = \"$❤️$\")\n",
    "plt.show()\n",
    "\n",
    "# # add title , lables and legend\n",
    "# x = np.linspace(-10, 10 , 100) # creates 100 values , evenly spread from 0 to 10\n",
    "# y1 = np.sin(x)  \n",
    "# y2 = np.cos(x)\n",
    "\n",
    "# plt.figure(figsize=(8,6)) # inches . 1 inch about spread from 0 to 10 \n",
    "\n",
    "# plt.plot(x, y1, label = 'Sine' , color='red', linestyle = '-', marker = 's')\n",
    "# # plt.plot(x, y2)\n",
    "# plt.show()"
   ]
  },
  {
   "cell_type": "code",
   "execution_count": 4,
   "metadata": {},
   "outputs": [
    {
     "ename": "NameError",
     "evalue": "name 'pd' is not defined",
     "output_type": "error",
     "traceback": [
      "\u001b[1;31m---------------------------------------------------------------------------\u001b[0m",
      "\u001b[1;31mNameError\u001b[0m                                 Traceback (most recent call last)",
      "\u001b[1;32mc:\\module visualization\\matplotlib\\intro.ipynb Cell 2\u001b[0m line \u001b[0;36m1\n\u001b[1;32m----> <a href='vscode-notebook-cell:/c%3A/module%20visualization/matplotlib/intro.ipynb#W3sZmlsZQ%3D%3D?line=0'>1</a>\u001b[0m df \u001b[39m=\u001b[39m pd\u001b[39m.\u001b[39mread_csv(\u001b[39m'\u001b[39m\u001b[39mmatplotlib\u001b[39m\u001b[39m\\f\u001b[39;00m\u001b[39morsaljning.csv\u001b[39m\u001b[39m'\u001b[39m) \u001b[39m#header = 0 uses the first row as column names\u001b[39;00m\n",
      "\u001b[1;31mNameError\u001b[0m: name 'pd' is not defined"
     ]
    }
   ],
   "source": [
    "df = pd.read_csv('matplotlib\\forsaljning.csv') #header = 0 uses the first row as column names"
   ]
  },
  {
   "cell_type": "code",
   "execution_count": null,
   "metadata": {},
   "outputs": [],
   "source": [
    "import matplotlib.pyplot as plt \n",
    "import numpy as np\n",
    "\n",
    "x = np.linspace (-10 , 10 , 100)\n",
    "plt.show()"
   ]
  },
  {
   "cell_type": "code",
   "execution_count": 6,
   "metadata": {},
   "outputs": [
    {
     "name": "stdout",
     "output_type": "stream",
     "text": [
      "<bound method DataFrame.to_string of     Manad   2019   2020   2021\n",
      "0       1  20000  10000  12000\n",
      "1       2  19000  12000  14000\n",
      "2       3  30000  23000  30000\n",
      "3       4  12000  22000  28000\n",
      "4       5  15000   5000  11000\n",
      "5       6  24000  17000  27000\n",
      "6       7  32000  23000  19000\n",
      "7       8  36000  25000  35000\n",
      "8       9  23000  17000  18000\n",
      "9      10  11000  13000  14000\n",
      "10     11  17000  14000  11000\n",
      "11     12  14000  20000  12000>\n"
     ]
    }
   ],
   "source": [
    "import matplotlib.pyplot as plt\n",
    "import pandas as pd\n",
    "import numpy as np\n",
    "\n",
    "df = pd.read_csv(\"forsaljning.csv\")\n",
    "print(df.to_string)"
   ]
  }
 ],
 "metadata": {
  "kernelspec": {
   "display_name": "Python 3",
   "language": "python",
   "name": "python3"
  },
  "language_info": {
   "codemirror_mode": {
    "name": "ipython",
    "version": 3
   },
   "file_extension": ".py",
   "mimetype": "text/x-python",
   "name": "python",
   "nbconvert_exporter": "python",
   "pygments_lexer": "ipython3",
   "version": "3.11.4"
  },
  "orig_nbformat": 4
 },
 "nbformat": 4,
 "nbformat_minor": 2
}
